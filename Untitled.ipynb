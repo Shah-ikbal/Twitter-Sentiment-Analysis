{
 "cells": [
  {
   "cell_type": "markdown",
   "metadata": {},
   "source": [
    "## Importing required Dependencies"
   ]
  },
  {
   "cell_type": "code",
   "execution_count": 11,
   "metadata": {},
   "outputs": [],
   "source": [
    "from textblob import TextBlob\n",
    "import tweepy"
   ]
  },
  {
   "cell_type": "markdown",
   "metadata": {},
   "source": [
    "## Importing consumer API keys and access tokens from developer account of twitter"
   ]
  },
  {
   "cell_type": "code",
   "execution_count": 16,
   "metadata": {},
   "outputs": [],
   "source": [
    "consumer_key = 'SCzVjJa2EvxVITjIiMvF2PRQn'\n",
    "consumer_secret = 'OTtISS9b785h7NKuA9M1GjcozOEACI68bhxKlJFLcHb9MlrwTT'\n",
    "\n",
    "access_token = \"1130161468253409281-TOQJOqGHTekh8mLQkzAfHtpOkjHj3m\"\n",
    "access_token_secret = \"eAf8OfvfEcqbzaVZ16CU9BRYap4441e3E21Nb9MhPqMSv\""
   ]
  },
  {
   "cell_type": "code",
   "execution_count": 17,
   "metadata": {},
   "outputs": [],
   "source": [
    "auth = tweepy.OAuthHandler(consumer_key, consumer_secret)\n",
    "auth.set_access_token(access_token, access_token_secret)"
   ]
  },
  {
   "cell_type": "markdown",
   "metadata": {},
   "source": [
    "# Setting tokens for the API"
   ]
  },
  {
   "cell_type": "code",
   "execution_count": 18,
   "metadata": {},
   "outputs": [],
   "source": [
    "api = tweepy.API(auth)"
   ]
  },
  {
   "cell_type": "code",
   "execution_count": 42,
   "metadata": {},
   "outputs": [],
   "source": [
    "tweetss = api.search(\"Sex\") "
   ]
  },
  {
   "cell_type": "markdown",
   "metadata": {},
   "source": [
    "## Applying sentiment analysis on Modi topic"
   ]
  },
  {
   "cell_type": "code",
   "execution_count": 43,
   "metadata": {},
   "outputs": [
    {
     "name": "stdout",
     "output_type": "stream",
     "text": [
      "RT @antisocialh0ney: why is “don’t have sex if you’re not ready to have a baby” only said to women and never to men.\n",
      "Sentiment(polarity=-0.05, subjectivity=0.75)\n",
      "RT @KateAllDay: TW: Rape, all terrible things\n",
      "\n",
      "So I need to tell a story.\n",
      "\n",
      "It's about a day I lied to a very nice professional at Planned P…\n",
      "Sentiment(polarity=-0.03999999999999999, subjectivity=0.7000000000000001)\n",
      "RT @bananafitz: \"what if your parents had aborted you\" yeah ok what if your parents had decided to have sex on a different day than the one…\n",
      "Sentiment(polarity=0.25, subjectivity=0.55)\n",
      "if in anime and manga, when people see the entire universe in one second or smth, does that mean that they witness… https://t.co/hi2EcVf0r9\n",
      "Sentiment(polarity=-0.10416666666666667, subjectivity=0.4375)\n",
      "@ninaland I want to have sex with you one day, I choose you as my favorite pornstar.\n",
      "Sentiment(polarity=0.5, subjectivity=1.0)\n"
     ]
    }
   ],
   "source": [
    "for tweet in tweetss:\n",
    "    print(tweet.text)\n",
    "    analysis = TextBlob(tweet.text)\n",
    "    print(analysis.sentiment)\n",
    "     "
   ]
  },
  {
   "cell_type": "code",
   "execution_count": null,
   "metadata": {},
   "outputs": [],
   "source": []
  }
 ],
 "metadata": {
  "kernelspec": {
   "display_name": "Python 3",
   "language": "python",
   "name": "python3"
  },
  "language_info": {
   "codemirror_mode": {
    "name": "ipython",
    "version": 3
   },
   "file_extension": ".py",
   "mimetype": "text/x-python",
   "name": "python",
   "nbconvert_exporter": "python",
   "pygments_lexer": "ipython3",
   "version": "3.6.5"
  }
 },
 "nbformat": 4,
 "nbformat_minor": 2
}
